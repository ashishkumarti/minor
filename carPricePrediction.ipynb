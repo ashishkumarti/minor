{
 "cells": [
  {
   "cell_type": "code",
   "execution_count": 1,
   "metadata": {},
   "outputs": [
    {
     "output_type": "error",
     "ename": "Error",
     "evalue": "Jupyter cannot be started. Error attempting to locate jupyter: Data Science libraries jupyter and notebook are not installed in interpreter Python 3.6.1 32-bit.",
     "traceback": [
      "Error: Jupyter cannot be started. Error attempting to locate jupyter: Data Science libraries jupyter and notebook are not installed in interpreter Python 3.6.1 32-bit.",
      "at b.startServer (c:\\Users\\jarvis\\.vscode\\extensions\\ms-python.python-2020.8.109390\\out\\client\\extension.js:56:315241)",
      "at runMicrotasks (<anonymous>)",
      "at processTicksAndRejections (internal/process/task_queues.js:94:5)",
      "at async b.createServer (c:\\Users\\jarvis\\.vscode\\extensions\\ms-python.python-2020.8.109390\\out\\client\\extension.js:56:314683)",
      "at async connect (c:\\Users\\jarvis\\.vscode\\extensions\\ms-python.python-2020.8.109390\\out\\client\\extension.js:56:442783)",
      "at async f.ensureConnectionAndNotebookImpl (c:\\Users\\jarvis\\.vscode\\extensions\\ms-python.python-2020.8.109390\\out\\client\\extension.js:32:91466)",
      "at async f.ensureConnectionAndNotebook (c:\\Users\\jarvis\\.vscode\\extensions\\ms-python.python-2020.8.109390\\out\\client\\extension.js:32:90768)",
      "at async f.clearResult (c:\\Users\\jarvis\\.vscode\\extensions\\ms-python.python-2020.8.109390\\out\\client\\extension.js:32:86570)",
      "at async f.reexecuteCell (c:\\Users\\jarvis\\.vscode\\extensions\\ms-python.python-2020.8.109390\\out\\client\\extension.js:9:123891)",
      "at async f.reexecuteCells (c:\\Users\\jarvis\\.vscode\\extensions\\ms-python.python-2020.8.109390\\out\\client\\extension.js:9:120414)"
     ]
    }
   ],
   "source": [
    "import numpy as np\n",
    "import pandas as pd\n",
    "import matplotlib.pyplot as plt\n",
    "import seaborn as sns\n",
    "cars=pd.read_csv('Data_Train1.csv')\n",
    "cars.head()"
   ]
  },
  {
   "cell_type": "code",
   "execution_count": 2,
   "metadata": {},
   "outputs": [
    {
     "data": {
      "text/html": [
       "<div>\n",
       "<style scoped>\n",
       "    .dataframe tbody tr th:only-of-type {\n",
       "        vertical-align: middle;\n",
       "    }\n",
       "\n",
       "    .dataframe tbody tr th {\n",
       "        vertical-align: top;\n",
       "    }\n",
       "\n",
       "    .dataframe thead th {\n",
       "        text-align: right;\n",
       "    }\n",
       "</style>\n",
       "<table border=\"1\" class=\"dataframe\">\n",
       "  <thead>\n",
       "    <tr style=\"text-align: right;\">\n",
       "      <th></th>\n",
       "      <th>Brand</th>\n",
       "      <th>Location</th>\n",
       "      <th>Location_name</th>\n",
       "      <th>Year</th>\n",
       "      <th>Kilometers_Driven</th>\n",
       "      <th>Fuel_Type</th>\n",
       "      <th>Fuel_Type_name</th>\n",
       "      <th>Transmission</th>\n",
       "      <th>Transmission_name</th>\n",
       "      <th>Owner_Type</th>\n",
       "      <th>Owner_Type_name</th>\n",
       "      <th>Mileage</th>\n",
       "      <th>Engine</th>\n",
       "      <th>Power</th>\n",
       "      <th>Seats</th>\n",
       "      <th>Price</th>\n",
       "    </tr>\n",
       "  </thead>\n",
       "  <tbody>\n",
       "    <tr>\n",
       "      <th>0</th>\n",
       "      <td>Maruti</td>\n",
       "      <td>1</td>\n",
       "      <td>Mumbai</td>\n",
       "      <td>2010</td>\n",
       "      <td>72000</td>\n",
       "      <td>1</td>\n",
       "      <td>CNG</td>\n",
       "      <td>2</td>\n",
       "      <td>Manual</td>\n",
       "      <td>1</td>\n",
       "      <td>First</td>\n",
       "      <td>26.60</td>\n",
       "      <td>998.0</td>\n",
       "      <td>58.16</td>\n",
       "      <td>5.0</td>\n",
       "      <td>1.75</td>\n",
       "    </tr>\n",
       "    <tr>\n",
       "      <th>1</th>\n",
       "      <td>Hyundai</td>\n",
       "      <td>2</td>\n",
       "      <td>Pune</td>\n",
       "      <td>2015</td>\n",
       "      <td>41000</td>\n",
       "      <td>2</td>\n",
       "      <td>Diesel</td>\n",
       "      <td>2</td>\n",
       "      <td>Manual</td>\n",
       "      <td>1</td>\n",
       "      <td>First</td>\n",
       "      <td>19.67</td>\n",
       "      <td>1582.0</td>\n",
       "      <td>126.20</td>\n",
       "      <td>5.0</td>\n",
       "      <td>12.50</td>\n",
       "    </tr>\n",
       "    <tr>\n",
       "      <th>2</th>\n",
       "      <td>Honda</td>\n",
       "      <td>3</td>\n",
       "      <td>Chennai</td>\n",
       "      <td>2011</td>\n",
       "      <td>46000</td>\n",
       "      <td>3</td>\n",
       "      <td>Petrol</td>\n",
       "      <td>2</td>\n",
       "      <td>Manual</td>\n",
       "      <td>1</td>\n",
       "      <td>First</td>\n",
       "      <td>18.20</td>\n",
       "      <td>1199.0</td>\n",
       "      <td>88.70</td>\n",
       "      <td>5.0</td>\n",
       "      <td>4.50</td>\n",
       "    </tr>\n",
       "    <tr>\n",
       "      <th>3</th>\n",
       "      <td>Maruti</td>\n",
       "      <td>3</td>\n",
       "      <td>Chennai</td>\n",
       "      <td>2012</td>\n",
       "      <td>87000</td>\n",
       "      <td>2</td>\n",
       "      <td>Diesel</td>\n",
       "      <td>2</td>\n",
       "      <td>Manual</td>\n",
       "      <td>1</td>\n",
       "      <td>First</td>\n",
       "      <td>20.77</td>\n",
       "      <td>1248.0</td>\n",
       "      <td>88.76</td>\n",
       "      <td>7.0</td>\n",
       "      <td>6.00</td>\n",
       "    </tr>\n",
       "    <tr>\n",
       "      <th>4</th>\n",
       "      <td>Audi</td>\n",
       "      <td>4</td>\n",
       "      <td>Coimbatore</td>\n",
       "      <td>2013</td>\n",
       "      <td>40670</td>\n",
       "      <td>2</td>\n",
       "      <td>Diesel</td>\n",
       "      <td>1</td>\n",
       "      <td>Automatic</td>\n",
       "      <td>2</td>\n",
       "      <td>Second</td>\n",
       "      <td>15.20</td>\n",
       "      <td>1968.0</td>\n",
       "      <td>140.80</td>\n",
       "      <td>5.0</td>\n",
       "      <td>17.74</td>\n",
       "    </tr>\n",
       "  </tbody>\n",
       "</table>\n",
       "</div>"
      ],
      "text/plain": [
       "     Brand  Location Location_name  Year  Kilometers_Driven  Fuel_Type  \\\n",
       "0   Maruti         1        Mumbai  2010              72000          1   \n",
       "1  Hyundai         2          Pune  2015              41000          2   \n",
       "2    Honda         3       Chennai  2011              46000          3   \n",
       "3   Maruti         3       Chennai  2012              87000          2   \n",
       "4     Audi         4    Coimbatore  2013              40670          2   \n",
       "\n",
       "  Fuel_Type_name  Transmission Transmission_name  Owner_Type Owner_Type_name  \\\n",
       "0            CNG             2            Manual           1           First   \n",
       "1         Diesel             2            Manual           1           First   \n",
       "2         Petrol             2            Manual           1           First   \n",
       "3         Diesel             2            Manual           1           First   \n",
       "4         Diesel             1         Automatic           2          Second   \n",
       "\n",
       "   Mileage  Engine   Power  Seats  Price  \n",
       "0    26.60   998.0   58.16    5.0   1.75  \n",
       "1    19.67  1582.0  126.20    5.0  12.50  \n",
       "2    18.20  1199.0   88.70    5.0   4.50  \n",
       "3    20.77  1248.0   88.76    7.0   6.00  \n",
       "4    15.20  1968.0  140.80    5.0  17.74  "
      ]
     },
     "execution_count": 2,
     "metadata": {},
     "output_type": "execute_result"
    }
   ],
   "source": [
    "BrandName = cars['Name'].apply(lambda x : x.split(' ')[0])\n",
    "cars.insert(1,\"Brand\",BrandName)\n",
    "cars.drop(['Name'],axis=1,inplace=True)\n",
    "cars.head()"
   ]
  },
  {
   "cell_type": "code",
   "execution_count": 4,
   "metadata": {},
   "outputs": [
    {
     "data": {
      "text/plain": [
       "(6019, 16)"
      ]
     },
     "execution_count": 4,
     "metadata": {},
     "output_type": "execute_result"
    }
   ],
   "source": [
    "cars.Brand.unique()\n",
    "cars.shape"
   ]
  },
  {
   "cell_type": "code",
   "execution_count": 5,
   "metadata": {},
   "outputs": [
    {
     "name": "stderr",
     "output_type": "stream",
     "text": [
      "C:\\Users\\Nitin\\Anaconda3\\lib\\site-packages\\scipy\\stats\\stats.py:1713: FutureWarning: Using a non-tuple sequence for multidimensional indexing is deprecated; use `arr[tuple(seq)]` instead of `arr[seq]`. In the future this will be interpreted as an array index, `arr[np.array(seq)]`, which will result either in an error or a different result.\n",
      "  return np.add.reduce(sorted[indexer] * weights, axis=axis) / sumval\n",
      "C:\\Users\\Nitin\\Anaconda3\\lib\\site-packages\\matplotlib\\axes\\_axes.py:6462: UserWarning: The 'normed' kwarg is deprecated, and has been replaced by the 'density' kwarg.\n",
      "  warnings.warn(\"The 'normed' kwarg is deprecated, and has been \"\n"
     ]
    },
    {
     "data": {
      "image/png": "[encoded data removed]",
      "text/plain": [
       "<Figure size 720x576 with 1 Axes>"
      ]
     },
     "metadata": {},
     "output_type": "display_data"
    }
   ],
   "source": [
    "plt.figure(figsize=(10,8))\n",
    "plt.title('Car Price Distribution Plot')\n",
    "sns.distplot(cars.Price)\n",
    "plt.show()"
   ]
  },
  {
   "cell_type": "code",
   "execution_count": 6,
   "metadata": {},
   "outputs": [
    {
     "name": "stdout",
     "output_type": "stream",
     "text": [
      "count    6019.000000\n",
      "mean        9.479468\n",
      "std        11.187917\n",
      "min         0.440000\n",
      "25%         3.500000\n",
      "50%         5.640000\n",
      "75%         9.950000\n",
      "85%        16.500000\n",
      "90%        22.500000\n",
      "100%      160.000000\n",
      "max       160.000000\n",
      "Name: Price, dtype: float64\n"
     ]
    }
   ],
   "source": [
    "print(cars.Price.describe(percentiles = [0.25,0.50,0.75,0.85,0.90,1]))"
   ]
  },
  {
   "cell_type": "code",
   "execution_count": 7,
   "metadata": {},
   "outputs": [
    {
     "data": {
      "image/png": "[encoded data removed]",
      "text/plain": [
       "<Figure size 1800x432 with 3 Axes>"
      ]
     },
     "metadata": {},
     "output_type": "display_data"
    }
   ],
   "source": [
    "plt.figure(figsize=(25, 6))\n",
    "\n",
    "plt.subplot(1,3,1)\n",
    "plt1 = cars.Brand.value_counts().plot('bar')\n",
    "plt.title('Brands Histogram')\n",
    "plt1.set(xlabel = 'Car Brands', ylabel='Frequency of brand')\n",
    "\n",
    "plt.subplot(1,3,2)\n",
    "plt1 = cars.Fuel_Type_name.value_counts().plot('bar')\n",
    "plt.title('Fuel Type Histogram')\n",
    "plt1.set(xlabel = 'Fuel Type', ylabel='Frequency of fuel type')\n",
    "\n",
    "plt.subplot(1,3,3)\n",
    "plt1 = cars.Owner_Type_name.value_counts().plot('bar')\n",
    "plt.title('Car Owner Type Histogram')\n",
    "plt1.set(xlabel = 'Car Owner Type', ylabel='Frequency of Car Owner type')\n",
    "\n",
    "plt.show()"
   ]
  },
  {
   "cell_type": "code",
   "execution_count": 8,
   "metadata": {},
   "outputs": [
    {
     "data": {
      "text/plain": [
       "<Figure size 720x576 with 0 Axes>"
      ]
     },
     "metadata": {},
     "output_type": "display_data"
    },
    {
     "data": {
      "image/png": "[encoded data removed]",
      "text/plain": [
       "<Figure size 432x288 with 1 Axes>"
      ]
     },
     "metadata": {},
     "output_type": "display_data"
    },
    {
     "data": {
      "text/plain": [
       "<Figure size 720x576 with 0 Axes>"
      ]
     },
     "metadata": {},
     "output_type": "display_data"
    },
    {
     "data": {
      "image/png": "[encoded data removed]",
      "text/plain": [
       "<Figure size 432x288 with 1 Axes>"
      ]
     },
     "metadata": {},
     "output_type": "display_data"
    },
    {
     "data": {
      "text/plain": [
       "<Figure size 720x576 with 0 Axes>"
      ]
     },
     "metadata": {},
     "output_type": "display_data"
    },
    {
     "data": {
      "image/png": "[encoded data removed]",
      "text/plain": [
       "<Figure size 432x288 with 1 Axes>"
      ]
     },
     "metadata": {},
     "output_type": "display_data"
    },
    {
     "data": {
      "text/plain": [
       "<Figure size 720x576 with 0 Axes>"
      ]
     },
     "metadata": {},
     "output_type": "display_data"
    },
    {
     "data": {
      "image/png": "[encoded data removed]",
      "text/plain": [
       "<Figure size 432x288 with 1 Axes>"
      ]
     },
     "metadata": {},
     "output_type": "display_data"
    }
   ],
   "source": [
    "plt.figure(figsize=(10,8))\n",
    "df = pd.DataFrame(cars.groupby(['Brand'])['Price'].mean().sort_values(ascending = False))\n",
    "df.plot.bar()\n",
    "plt.title('Brand Name vs Average Price')\n",
    "plt.show()\n",
    "\n",
    "plt.figure(figsize=(10,8))\n",
    "df = pd.DataFrame(cars.groupby(['Brand'])['Mileage'].mean().sort_values(ascending = True))\n",
    "df.plot.bar()\n",
    "plt.title('Brand Name  vs Average Mileage')\n",
    "plt.show()\n",
    "\n",
    "plt.figure(figsize=(10,8))\n",
    "df = pd.DataFrame(cars.groupby(['Year'])['Price'].mean().sort_values(ascending = True))\n",
    "df.plot.bar()\n",
    "plt.title('Year  vs Average Price')\n",
    "plt.show()\n",
    "\n",
    "plt.figure(figsize=(10,8))\n",
    "df = pd.DataFrame(cars.groupby(['Fuel_Type_name'])['Price'].mean().sort_values(ascending = True))\n",
    "df.plot.bar()\n",
    "plt.title('Fuel Type  vs Average Price')\n",
    "plt.show()"
   ]
  },
  {
   "cell_type": "code",
   "execution_count": 9,
   "metadata": {},
   "outputs": [
    {
     "data": {
      "text/html": [
       "<div>\n",
       "<style scoped>\n",
       "    .dataframe tbody tr th:only-of-type {\n",
       "        vertical-align: middle;\n",
       "    }\n",
       "\n",
       "    .dataframe tbody tr th {\n",
       "        vertical-align: top;\n",
       "    }\n",
       "\n",
       "    .dataframe thead th {\n",
       "        text-align: right;\n",
       "    }\n",
       "</style>\n",
       "<table border=\"1\" class=\"dataframe\">\n",
       "  <thead>\n",
       "    <tr style=\"text-align: right;\">\n",
       "      <th></th>\n",
       "      <th>Location</th>\n",
       "      <th>Year</th>\n",
       "      <th>Kilometers_Driven</th>\n",
       "      <th>Fuel_Type</th>\n",
       "      <th>Transmission</th>\n",
       "      <th>Owner_Type</th>\n",
       "      <th>Mileage</th>\n",
       "      <th>Engine</th>\n",
       "      <th>Power</th>\n",
       "      <th>Seats</th>\n",
       "      <th>Price</th>\n",
       "    </tr>\n",
       "  </thead>\n",
       "  <tbody>\n",
       "    <tr>\n",
       "      <th>Location</th>\n",
       "      <td>1.000000</td>\n",
       "      <td>0.046937</td>\n",
       "      <td>-0.041374</td>\n",
       "      <td>-0.036755</td>\n",
       "      <td>0.061535</td>\n",
       "      <td>-0.097814</td>\n",
       "      <td>0.067298</td>\n",
       "      <td>-0.024839</td>\n",
       "      <td>-0.019284</td>\n",
       "      <td>-0.016820</td>\n",
       "      <td>-0.016078</td>\n",
       "    </tr>\n",
       "    <tr>\n",
       "      <th>Year</th>\n",
       "      <td>0.046937</td>\n",
       "      <td>1.000000</td>\n",
       "      <td>-0.173048</td>\n",
       "      <td>-0.130269</td>\n",
       "      <td>-0.097059</td>\n",
       "      <td>-0.397152</td>\n",
       "      <td>0.321565</td>\n",
       "      <td>-0.052197</td>\n",
       "      <td>0.014525</td>\n",
       "      <td>0.012333</td>\n",
       "      <td>0.305327</td>\n",
       "    </tr>\n",
       "    <tr>\n",
       "      <th>Kilometers_Driven</th>\n",
       "      <td>-0.041374</td>\n",
       "      <td>-0.173048</td>\n",
       "      <td>1.000000</td>\n",
       "      <td>-0.098833</td>\n",
       "      <td>0.025663</td>\n",
       "      <td>0.085337</td>\n",
       "      <td>-0.065253</td>\n",
       "      <td>0.091068</td>\n",
       "      <td>0.033503</td>\n",
       "      <td>0.083113</td>\n",
       "      <td>-0.011493</td>\n",
       "    </tr>\n",
       "    <tr>\n",
       "      <th>Fuel_Type</th>\n",
       "      <td>-0.036755</td>\n",
       "      <td>-0.130269</td>\n",
       "      <td>-0.098833</td>\n",
       "      <td>1.000000</td>\n",
       "      <td>0.113006</td>\n",
       "      <td>0.041949</td>\n",
       "      <td>-0.164853</td>\n",
       "      <td>-0.382823</td>\n",
       "      <td>-0.252425</td>\n",
       "      <td>-0.286298</td>\n",
       "      <td>-0.289585</td>\n",
       "    </tr>\n",
       "    <tr>\n",
       "      <th>Transmission</th>\n",
       "      <td>0.061535</td>\n",
       "      <td>-0.097059</td>\n",
       "      <td>0.025663</td>\n",
       "      <td>0.113006</td>\n",
       "      <td>1.000000</td>\n",
       "      <td>0.008797</td>\n",
       "      <td>0.333235</td>\n",
       "      <td>-0.500381</td>\n",
       "      <td>-0.643737</td>\n",
       "      <td>0.075475</td>\n",
       "      <td>-0.586025</td>\n",
       "    </tr>\n",
       "    <tr>\n",
       "      <th>Owner_Type</th>\n",
       "      <td>-0.097814</td>\n",
       "      <td>-0.397152</td>\n",
       "      <td>0.085337</td>\n",
       "      <td>0.041949</td>\n",
       "      <td>0.008797</td>\n",
       "      <td>1.000000</td>\n",
       "      <td>-0.161181</td>\n",
       "      <td>0.050907</td>\n",
       "      <td>0.026088</td>\n",
       "      <td>0.014052</td>\n",
       "      <td>-0.097557</td>\n",
       "    </tr>\n",
       "    <tr>\n",
       "      <th>Mileage</th>\n",
       "      <td>0.067298</td>\n",
       "      <td>0.321565</td>\n",
       "      <td>-0.065253</td>\n",
       "      <td>-0.164853</td>\n",
       "      <td>0.333235</td>\n",
       "      <td>-0.161181</td>\n",
       "      <td>1.000000</td>\n",
       "      <td>-0.597699</td>\n",
       "      <td>-0.537729</td>\n",
       "      <td>-0.308226</td>\n",
       "      <td>-0.306593</td>\n",
       "    </tr>\n",
       "    <tr>\n",
       "      <th>Engine</th>\n",
       "      <td>-0.024839</td>\n",
       "      <td>-0.052197</td>\n",
       "      <td>0.091068</td>\n",
       "      <td>-0.382823</td>\n",
       "      <td>-0.500381</td>\n",
       "      <td>0.050907</td>\n",
       "      <td>-0.597699</td>\n",
       "      <td>1.000000</td>\n",
       "      <td>0.866185</td>\n",
       "      <td>0.393337</td>\n",
       "      <td>0.658354</td>\n",
       "    </tr>\n",
       "    <tr>\n",
       "      <th>Power</th>\n",
       "      <td>-0.019284</td>\n",
       "      <td>0.014525</td>\n",
       "      <td>0.033503</td>\n",
       "      <td>-0.252425</td>\n",
       "      <td>-0.643737</td>\n",
       "      <td>0.026088</td>\n",
       "      <td>-0.537729</td>\n",
       "      <td>0.866185</td>\n",
       "      <td>1.000000</td>\n",
       "      <td>0.101562</td>\n",
       "      <td>0.772566</td>\n",
       "    </tr>\n",
       "    <tr>\n",
       "      <th>Seats</th>\n",
       "      <td>-0.016820</td>\n",
       "      <td>0.012333</td>\n",
       "      <td>0.083113</td>\n",
       "      <td>-0.286298</td>\n",
       "      <td>0.075475</td>\n",
       "      <td>0.014052</td>\n",
       "      <td>-0.308226</td>\n",
       "      <td>0.393337</td>\n",
       "      <td>0.101562</td>\n",
       "      <td>1.000000</td>\n",
       "      <td>0.052225</td>\n",
       "    </tr>\n",
       "    <tr>\n",
       "      <th>Price</th>\n",
       "      <td>-0.016078</td>\n",
       "      <td>0.305327</td>\n",
       "      <td>-0.011493</td>\n",
       "      <td>-0.289585</td>\n",
       "      <td>-0.586025</td>\n",
       "      <td>-0.097557</td>\n",
       "      <td>-0.306593</td>\n",
       "      <td>0.658354</td>\n",
       "      <td>0.772566</td>\n",
       "      <td>0.052225</td>\n",
       "      <td>1.000000</td>\n",
       "    </tr>\n",
       "  </tbody>\n",
       "</table>\n",
       "</div>"
      ],
      "text/plain": [
       "                   Location      Year  Kilometers_Driven  Fuel_Type  \\\n",
       "Location           1.000000  0.046937          -0.041374  -0.036755   \n",
       "Year               0.046937  1.000000          -0.173048  -0.130269   \n",
       "Kilometers_Driven -0.041374 -0.173048           1.000000  -0.098833   \n",
       "Fuel_Type         -0.036755 -0.130269          -0.098833   1.000000   \n",
       "Transmission       0.061535 -0.097059           0.025663   0.113006   \n",
       "Owner_Type        -0.097814 -0.397152           0.085337   0.041949   \n",
       "Mileage            0.067298  0.321565          -0.065253  -0.164853   \n",
       "Engine            -0.024839 -0.052197           0.091068  -0.382823   \n",
       "Power             -0.019284  0.014525           0.033503  -0.252425   \n",
       "Seats             -0.016820  0.012333           0.083113  -0.286298   \n",
       "Price             -0.016078  0.305327          -0.011493  -0.289585   \n",
       "\n",
       "                   Transmission  Owner_Type   Mileage    Engine     Power  \\\n",
       "Location               0.061535   -0.097814  0.067298 -0.024839 -0.019284   \n",
       "Year                  -0.097059   -0.397152  0.321565 -0.052197  0.014525   \n",
       "Kilometers_Driven      0.025663    0.085337 -0.065253  0.091068  0.033503   \n",
       "Fuel_Type              0.113006    0.041949 -0.164853 -0.382823 -0.252425   \n",
       "Transmission           1.000000    0.008797  0.333235 -0.500381 -0.643737   \n",
       "Owner_Type             0.008797    1.000000 -0.161181  0.050907  0.026088   \n",
       "Mileage                0.333235   -0.161181  1.000000 -0.597699 -0.537729   \n",
       "Engine                -0.500381    0.050907 -0.597699  1.000000  0.866185   \n",
       "Power                 -0.643737    0.026088 -0.537729  0.866185  1.000000   \n",
       "Seats                  0.075475    0.014052 -0.308226  0.393337  0.101562   \n",
       "Price                 -0.586025   -0.097557 -0.306593  0.658354  0.772566   \n",
       "\n",
       "                      Seats     Price  \n",
       "Location          -0.016820 -0.016078  \n",
       "Year               0.012333  0.305327  \n",
       "Kilometers_Driven  0.083113 -0.011493  \n",
       "Fuel_Type         -0.286298 -0.289585  \n",
       "Transmission       0.075475 -0.586025  \n",
       "Owner_Type         0.014052 -0.097557  \n",
       "Mileage           -0.308226 -0.306593  \n",
       "Engine             0.393337  0.658354  \n",
       "Power              0.101562  0.772566  \n",
       "Seats              1.000000  0.052225  \n",
       "Price              0.052225  1.000000  "
      ]
     },
     "execution_count": 9,
     "metadata": {},
     "output_type": "execute_result"
    }
   ],
   "source": [
    "cars.corr()"
   ]
  },
  {
   "cell_type": "code",
   "execution_count": 11,
   "metadata": {},
   "outputs": [],
   "source": [
    "#sns.pairplot(cars,diag_kind='kde')"
   ]
  },
  {
   "cell_type": "code",
   "execution_count": 13,
   "metadata": {},
   "outputs": [],
   "source": [
    "x=cars.iloc[:,[1,3,4,5,7,9,11,12,13,14]].values\n",
    "y=cars.iloc[:,-1].values\n"
   ]
  },
  {
   "cell_type": "code",
   "execution_count": 16,
   "metadata": {},
   "outputs": [],
   "source": [
    "from sklearn.preprocessing import Imputer\n",
    "from sklearn.preprocessing import StandardScaler\n",
    "imputer=Imputer(missing_values='NaN',strategy='mean',axis=0)\n",
    "imputer=imputer.fit(x[:,])\n",
    "x[:,]=imputer.transform(x[:,])\n"
   ]
  },
  {
   "cell_type": "code",
   "execution_count": 17,
   "metadata": {},
   "outputs": [],
   "source": [
    "import matplotlib.pyplot as mp\n",
    "from sklearn.model_selection import train_test_split\n",
    "from sklearn.linear_model import LinearRegression\n",
    "\n",
    "x_train,x_test,y_train,y_test=train_test_split(x,y,test_size=.2,random_state=6)\n",
    "\n",
    "X_train,x_val,Y_train,y_val=train_test_split(x_train,y_train,test_size=.2,random_state=6)\n"
   ]
  },
  {
   "cell_type": "code",
   "execution_count": 18,
   "metadata": {},
   "outputs": [],
   "source": [
    "sc=StandardScaler()\n",
    "x_train=sc.fit_transform(x_train)\n",
    "X_train=sc.fit_transform(X_train)\n",
    "x_val=sc.fit_transform(x_val)\n",
    "x_test=sc.transform(x_test)"
   ]
  },
  {
   "cell_type": "code",
   "execution_count": null,
   "metadata": {},
   "outputs": [],
   "source": []
  },
  {
   "cell_type": "code",
   "execution_count": 31,
   "metadata": {},
   "outputs": [
    {
     "name": "stdout",
     "output_type": "stream",
     "text": [
      "Train:  0.6998540087299517\n",
      "\n",
      "Test:  0.7180222574095788\n",
      "\n",
      "Validation:  0.6543759845947309\n"
     ]
    }
   ],
   "source": [
    "regressor=LinearRegression()\n",
    "regressor.fit(x_train,y_train)\n",
    "\n",
    "print(\"Train: \",regressor.score(X_train,Y_train))\n",
    "print(\"\\nTest: \",regressor.score(x_test,y_test))\n",
    "print(\"\\nValidation: \",regressor.score(x_val,y_val))\n",
    "Linear={}\n",
    "Linear['Training']=regressor.score(X_train,Y_train)*100\n",
    "Linear['Testing']=regressor.score(x_test,y_test)*100\n",
    "Linear['Validation']=regressor.score(x_val,y_val)*100"
   ]
  },
  {
   "cell_type": "code",
   "execution_count": 25,
   "metadata": {},
   "outputs": [],
   "source": [
    "from sklearn.preprocessing import PolynomialFeatures \n",
    "poly = PolynomialFeatures( degree = 2, include_bias = False) \n",
    "scaledXPolytrain = poly.fit_transform(x_train)\n",
    "scaledXPolyval = poly.fit_transform(x_val)\n",
    "scaledXPolytest = poly.transform(x_test)"
   ]
  },
  {
   "cell_type": "code",
   "execution_count": 26,
   "metadata": {},
   "outputs": [
    {
     "name": "stdout",
     "output_type": "stream",
     "text": [
      "Training Result\n",
      "0.8522973807944595\n",
      "\n",
      "Testing Result\n",
      "0.816838793328353\n",
      "\n",
      "Validation Result\n",
      "0.8200799174924249\n"
     ]
    }
   ],
   "source": [
    "regressorPoly = LinearRegression()\n",
    "regressorPoly.fit(scaledXPolytrain, y_train)\n",
    "print(\"Training Result\")\n",
    "print(regressorPoly.score(scaledXPolytrain, y_train))\n",
    "print(\"\\nTesting Result\")\n",
    "print(regressorPoly.score(scaledXPolytest, y_test))\n",
    "print(\"\\nValidation Result\")\n",
    "print(regressorPoly.score(scaledXPolyval, y_val))\n",
    "Poly={}\n",
    "Poly['Training']=regressorPoly.score(scaledXPolytrain, y_train)*100\n",
    "Poly['Testing']=regressorPoly.score(scaledXPolytest, y_test)*100\n",
    "Poly['Validation']=regressorPoly.score(scaledXPolyval, y_val)*100"
   ]
  },
  {
   "cell_type": "code",
   "execution_count": 27,
   "metadata": {},
   "outputs": [
    {
     "name": "stderr",
     "output_type": "stream",
     "text": [
      "C:\\Users\\Nitin\\Anaconda3\\lib\\site-packages\\sklearn\\ensemble\\weight_boosting.py:29: DeprecationWarning: numpy.core.umath_tests is an internal NumPy module and should not be imported. It will be removed in a future NumPy release.\n",
      "  from numpy.core.umath_tests import inner1d\n"
     ]
    },
    {
     "name": "stdout",
     "output_type": "stream",
     "text": [
      "Training:  0.9801942816882389\n",
      "\n",
      "Testing:  0.8811364981711414\n",
      "\n",
      "Validation:  0.9051418464901785\n"
     ]
    }
   ],
   "source": [
    "from sklearn.ensemble import RandomForestRegressor\n",
    "\n",
    "regressorForest = RandomForestRegressor(n_estimators=20, random_state=0)\n",
    "regressorForest.fit(x_train, y_train)\n",
    "print(\"Training: \",regressorForest.score(x_train,y_train))\n",
    "print(\"\\nTesting: \",regressorForest.score(x_test,y_test))\n",
    "print(\"\\nValidation: \",regressorForest.score(x_val,y_val))\n",
    "Random={}\n",
    "Random['Training']=regressorForest.score(x_train,y_train)*100\n",
    "Random['Testing']=regressorForest.score(x_test,y_test)*100\n",
    "Random['Validation']=regressorForest.score(x_val,y_val)*100"
   ]
  },
  {
   "cell_type": "code",
   "execution_count": 32,
   "metadata": {},
   "outputs": [
    {
     "data": {
      "text/plain": [
       "{'Training': 69.98540087299517,\n",
       " 'Testing': 71.80222574095788,\n",
       " 'Validation': 65.4375984594731}"
      ]
     },
     "execution_count": 32,
     "metadata": {},
     "output_type": "execute_result"
    }
   ],
   "source": [
    "Linear"
   ]
  },
  {
   "cell_type": "code",
   "execution_count": 29,
   "metadata": {},
   "outputs": [
    {
     "data": {
      "text/plain": [
       "{'Training': 85.22973807944595,\n",
       " 'Testing': 81.68387933283529,\n",
       " 'Validation': 82.00799174924249}"
      ]
     },
     "execution_count": 29,
     "metadata": {},
     "output_type": "execute_result"
    }
   ],
   "source": [
    "Poly"
   ]
  },
  {
   "cell_type": "code",
   "execution_count": 30,
   "metadata": {},
   "outputs": [
    {
     "data": {
      "text/plain": [
       "{'Training': 98.01942816882388,\n",
       " 'Testing': 88.11364981711414,\n",
       " 'Validation': 90.51418464901785}"
      ]
     },
     "execution_count": 30,
     "metadata": {},
     "output_type": "execute_result"
    }
   ],
   "source": [
    "Random"
   ]
  },
  {
   "cell_type": "code",
   "execution_count": null,
   "metadata": {},
   "outputs": [],
   "source": []
  }
 ],
 "metadata": {
  "kernelspec": {
   "display_name": "Python 3",
   "language": "python",
   "name": "python3"
  },
  "language_info": {
   "codemirror_mode": {
    "name": "ipython",
    "version": 3
   },
   "file_extension": ".py",
   "mimetype": "text/x-python",
   "name": "python",
   "nbconvert_exporter": "python",
   "pygments_lexer": "ipython3",
   "version": "3.6.5"
  }
 },
 "nbformat": 4,
 "nbformat_minor": 2
}